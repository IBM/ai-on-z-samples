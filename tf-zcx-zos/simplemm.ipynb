{
 "cells": [
  {
   "cell_type": "markdown",
   "source": [
    "# Create a Simple TensorFlow model for use with TensorFlow serving"
   ],
   "metadata": {
    "tags": []
   }
  },
  {
   "cell_type": "markdown",
   "source": [
    "## Create a simple TensorFlow model."
   ],
   "metadata": {}
  },
  {
   "cell_type": "markdown",
   "source": [
    "## Section 1.1: Import the packages we need:"
   ],
   "metadata": {}
  },
  {
   "cell_type": "code",
   "execution_count": 1,
   "source": [
    "import numpy as np\n",
    "import tensorflow as tf"
   ],
   "outputs": [],
   "metadata": {}
  },
  {
   "cell_type": "markdown",
   "source": [
    "## Section 1.2: Build a simple model using the TensorFlow function capability."
   ],
   "metadata": {}
  },
  {
   "cell_type": "code",
   "execution_count": 2,
   "source": [
    "class simplematmul(tf.Module):\n",
    "    def __init__(self):\n",
    "        super().__init__()\n",
    "        self.weights = np.asfarray([[1.0], [1.0], [1.0], [1.0], [1.0]], dtype=np.float32)\n",
    "        self.dense = lambda inputs: tf.matmul(inputs, self.weights)\n",
    "\n",
    "    @tf.function(input_signature=[tf.TensorSpec(shape=[1, 5], dtype=tf.float32, name='inputs')])\n",
    "    def __call__(self, inputs):\n",
    "        return self.dense(inputs)\n"
   ],
   "outputs": [],
   "metadata": {}
  },
  {
   "cell_type": "code",
   "execution_count": 3,
   "source": [
    "# Create an instance of our model:\n",
    "model1 = simplematmul()"
   ],
   "outputs": [],
   "metadata": {}
  },
  {
   "cell_type": "markdown",
   "source": [
    "## Section 1.3: Test our model - it should return a result of 15."
   ],
   "metadata": {}
  },
  {
   "cell_type": "code",
   "execution_count": 4,
   "source": [
    "#  Let's create test data to make sure our model is working\n",
    "test_data = np.array([[1, 2, 3, 4, 5]], dtype=np.float32)\n",
    "test_tensor = np.asfarray(test_data)"
   ],
   "outputs": [],
   "metadata": {}
  },
  {
   "cell_type": "code",
   "execution_count": 5,
   "source": [
    "print(model1(test_tensor))"
   ],
   "outputs": [
    {
     "output_type": "stream",
     "name": "stdout",
     "text": [
      "tf.Tensor([[15.]], shape=(1, 1), dtype=float32)\n"
     ]
    }
   ],
   "metadata": {}
  },
  {
   "cell_type": "markdown",
   "source": [
    "## Section 1.4: Save our model. "
   ],
   "metadata": {}
  },
  {
   "cell_type": "code",
   "execution_count": 6,
   "source": [
    "saved_dir = './model'\n",
    "tf.saved_model.save(model1, saved_dir,signatures=model1.__call__.get_concrete_function(\n",
    "    tf.TensorSpec(shape=[1, 5], dtype=tf.float32, name='inputs')))"
   ],
   "outputs": [
    {
     "output_type": "stream",
     "name": "stdout",
     "text": [
      "INFO:tensorflow:Assets written to: ./model/assets\n"
     ]
    }
   ],
   "metadata": {}
  }
 ],
 "metadata": {
  "interpreter": {
   "hash": "b75cd923e25886f80ff7bc021832cf8064ae4c19ea8fcb841fdd7c174422cb5e"
  },
  "kernelspec": {
   "name": "python3",
   "display_name": "Python 3.8.10 64-bit ('tfonnx': conda)"
  },
  "language_info": {
   "codemirror_mode": {
    "name": "ipython",
    "version": 3
   },
   "file_extension": ".py",
   "mimetype": "text/x-python",
   "name": "python",
   "nbconvert_exporter": "python",
   "pygments_lexer": "ipython3",
   "version": "3.8.10"
  }
 },
 "nbformat": 4,
 "nbformat_minor": 5
}